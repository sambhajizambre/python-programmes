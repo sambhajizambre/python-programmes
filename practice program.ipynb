{
  "nbformat": 4,
  "nbformat_minor": 0,
  "metadata": {
    "colab": {
      "name": "Untitled17.ipynb",
      "provenance": [],
      "collapsed_sections": [],
      "authorship_tag": "ABX9TyPMMsGIaXnKuFW14uniPnky",
      "include_colab_link": true
    },
    "kernelspec": {
      "name": "python3",
      "display_name": "Python 3"
    },
    "language_info": {
      "name": "python"
    }
  },
  "cells": [
    {
      "cell_type": "markdown",
      "metadata": {
        "id": "view-in-github",
        "colab_type": "text"
      },
      "source": [
        "<a href=\"https://colab.research.google.com/github/sambhajizambre/python-programmes/blob/main/practice%20program.ipynb\" target=\"_parent\"><img src=\"https://colab.research.google.com/assets/colab-badge.svg\" alt=\"Open In Colab\"/></a>"
      ]
    },
    {
      "cell_type": "markdown",
      "source": [
        "#Python program to check if a string is palindrome or not"
      ],
      "metadata": {
        "id": "hnyShygc-wFz"
      }
    },
    {
      "cell_type": "code",
      "execution_count": 12,
      "metadata": {
        "colab": {
          "base_uri": "https://localhost:8080/"
        },
        "id": "1_pVvQ2GClVs",
        "outputId": "39023c4c-1672-4072-cc76-9824ec8d691c"
      },
      "outputs": [
        {
          "output_type": "stream",
          "name": "stdout",
          "text": [
            "Yes\n"
          ]
        }
      ],
      "source": [
        "# function which return reverse of a string\n",
        " \n",
        "def isPalindrome(s):\n",
        "  return s == s[::-1]\n",
        "\n",
        "s=\"radar\"\n",
        "ans=isPalindrome(s)\n",
        "\n",
        "if ans:\n",
        " print(\"Yes\")\n",
        "else:\n",
        " print(\"No\")\n",
        "\n",
        "\n"
      ]
    },
    {
      "cell_type": "code",
      "source": [
        "s=radar\n",
        "ans="
      ],
      "metadata": {
        "id": "7KP5sNT6DW36"
      },
      "execution_count": null,
      "outputs": []
    },
    {
      "cell_type": "code",
      "source": [
        "def ispalindrome(s):\n",
        "  return s==s[::-1]\n",
        "\n",
        "s='malayalam'\n",
        "ans=ispalindrome(s)\n",
        "\n",
        "if ans:\n",
        "  print('Yes')\n",
        "else:\n",
        "  print('No')  "
      ],
      "metadata": {
        "colab": {
          "base_uri": "https://localhost:8080/"
        },
        "id": "RfLJtQbQDWza",
        "outputId": "d8b08fd9-3a2d-4e58-9d18-7b1d6b0d63e3"
      },
      "execution_count": 13,
      "outputs": [
        {
          "output_type": "stream",
          "name": "stdout",
          "text": [
            "Yes\n"
          ]
        }
      ]
    },
    {
      "cell_type": "code",
      "source": [
        "def ispalindrome(s):\n",
        "  return s==s[::-1]\n",
        "  \n",
        "s='radar'\n",
        "ans=ispalindrome(s)\n",
        "if ans:\n",
        "  print('yes')\n",
        "else:\n",
        "  print('no')\n"
      ],
      "metadata": {
        "colab": {
          "base_uri": "https://localhost:8080/"
        },
        "id": "dKIrXu3xDWxn",
        "outputId": "b5301928-b6c5-4c83-d0df-77cedbed3d74"
      },
      "execution_count": 17,
      "outputs": [
        {
          "output_type": "stream",
          "name": "stdout",
          "text": [
            "yes\n"
          ]
        }
      ]
    },
    {
      "cell_type": "code",
      "source": [
        "def ispalindrome(s):\n",
        "  return s==s[::-1]\n",
        "s='rajesh'\n",
        "ans=ispalindrome(s)\n",
        "if ans:\n",
        "  print('yes')\n",
        "else:\n",
        "  print('no')"
      ],
      "metadata": {
        "colab": {
          "base_uri": "https://localhost:8080/"
        },
        "id": "RAvKvW-UDWs3",
        "outputId": "041fce89-b1c9-4640-9408-6679a31339ac"
      },
      "execution_count": 18,
      "outputs": [
        {
          "output_type": "stream",
          "name": "stdout",
          "text": [
            "no\n"
          ]
        }
      ]
    },
    {
      "cell_type": "code",
      "source": [
        "def ispalindrome(s):\n",
        "  return s==s[::-1]\n",
        "s='sambhaji'\n",
        "ans=ispalindrome(s)\n",
        "if ans:\n",
        "  print('yes')\n",
        "else:\n",
        "  print('no')"
      ],
      "metadata": {
        "colab": {
          "base_uri": "https://localhost:8080/"
        },
        "id": "wHs7Q-apDWrN",
        "outputId": "04d6a733-6309-4fdf-d798-a186a1257296"
      },
      "execution_count": 19,
      "outputs": [
        {
          "output_type": "stream",
          "name": "stdout",
          "text": [
            "no\n"
          ]
        }
      ]
    },
    {
      "cell_type": "code",
      "source": [
        "def isPalindrome(s):\n",
        "  return s==s[::-1]\n",
        "s='zambre'\n",
        "ans=isPalindrome(s)\n",
        "if ans:\n",
        "  print('yes')\n",
        "else:\n",
        "  print('no')"
      ],
      "metadata": {
        "colab": {
          "base_uri": "https://localhost:8080/"
        },
        "id": "YruZKmrgDWmL",
        "outputId": "1964f7e4-a044-4c79-bc89-f6e2db360bb4"
      },
      "execution_count": 25,
      "outputs": [
        {
          "output_type": "stream",
          "name": "stdout",
          "text": [
            "no\n"
          ]
        }
      ]
    },
    {
      "cell_type": "code",
      "source": [
        "def isPalindrome(s):\n",
        "  return s==s[::-1]\n",
        "s='satish'\n",
        "ans=isPalindrome(s)\n",
        "if ans:\n",
        "  print('yes')\n",
        "else:\n",
        "  print('no')"
      ],
      "metadata": {
        "colab": {
          "base_uri": "https://localhost:8080/"
        },
        "id": "q7BJ_Vd0JyJM",
        "outputId": "44393267-5080-40bf-f221-0c061ade1de5"
      },
      "execution_count": 28,
      "outputs": [
        {
          "output_type": "stream",
          "name": "stdout",
          "text": [
            "no\n"
          ]
        }
      ]
    },
    {
      "cell_type": "code",
      "source": [
        "def isPalindrome(s):\n",
        "  return s==s[::-1]\n",
        "s='gadgile'\n",
        "ans=isPalindrome(s)\n",
        "if ans:\n",
        "  print('yes')\n",
        "else:\n",
        "  print('no')"
      ],
      "metadata": {
        "colab": {
          "base_uri": "https://localhost:8080/"
        },
        "id": "0q8FgcreLDTZ",
        "outputId": "9d5cb872-ea15-431e-c00f-9452bba63ae0"
      },
      "execution_count": 30,
      "outputs": [
        {
          "output_type": "stream",
          "name": "stdout",
          "text": [
            "no\n"
          ]
        }
      ]
    },
    {
      "cell_type": "code",
      "source": [
        "def isPalindrome(s):\n",
        "  return s==s[::-1]\n",
        "s='muttalwad'\n",
        "ans=ispalindrome(s)\n",
        "if ans:\n",
        "  print('yes')\n",
        "else:\n",
        "  print('no')"
      ],
      "metadata": {
        "colab": {
          "base_uri": "https://localhost:8080/"
        },
        "id": "tfywKk-xLDFX",
        "outputId": "593992b3-3bc8-44eb-e94e-fffd142c22a2"
      },
      "execution_count": 31,
      "outputs": [
        {
          "output_type": "stream",
          "name": "stdout",
          "text": [
            "no\n"
          ]
        }
      ]
    },
    {
      "cell_type": "code",
      "source": [
        "def ispalindrome(s):\n",
        "  return s==s[::-1]\n",
        "s='malyalam'\n",
        "ans=ispalindrome(s)\n",
        "if ans:\n",
        "  print('yes')\n",
        "else:\n",
        "  print('no')"
      ],
      "metadata": {
        "colab": {
          "base_uri": "https://localhost:8080/"
        },
        "id": "J-FRPsagP-Ow",
        "outputId": "a3e69386-8ebc-4f60-aa15-e1f11e9e776e"
      },
      "execution_count": 32,
      "outputs": [
        {
          "output_type": "stream",
          "name": "stdout",
          "text": [
            "no\n"
          ]
        }
      ]
    },
    {
      "cell_type": "code",
      "source": [
        "# Function to remove all duplicates from string\n",
        "# and order does not matter\n",
        "# set() --> A Set is an unordered collection\n",
        "#         data type that is iterable, mutable,\n",
        "#         and has no duplicate elements.\n",
        "# \"\".join() --> It joins two adjacent elements in\n",
        "#             iterable with any symbol defined in\n",
        "#             \"\" ( double quotes ) and returns a single string\n",
        "# Function to remove all duplicates from string and keep the order of characters same\n",
        "def removeDuplicate(str):\n",
        "    s=set(str)\n",
        "    s=\"\".join(s)\n",
        "    print(\"Without Order:\",s)\n",
        "    t=\"\"\n",
        "    for i in str:\n",
        "        if(i in t):\n",
        "            pass\n",
        "        else:\n",
        "            t=t+i\n",
        "        print(\"With Order:\",t)\n",
        "     \n",
        "str=\"sambhajizambre\"\n",
        "removeDuplicate(str)"
      ],
      "metadata": {
        "colab": {
          "base_uri": "https://localhost:8080/"
        },
        "id": "fma_8WzpQnXT",
        "outputId": "3f7b9708-a2f4-4bfc-c132-84b9966e0c31"
      },
      "execution_count": 59,
      "outputs": [
        {
          "output_type": "stream",
          "name": "stdout",
          "text": [
            "Without Order: hambsrzjei\n",
            "With Order: s\n",
            "With Order: sa\n",
            "With Order: sam\n",
            "With Order: samb\n",
            "With Order: sambh\n",
            "With Order: sambh\n",
            "With Order: sambhj\n",
            "With Order: sambhji\n",
            "With Order: sambhjiz\n",
            "With Order: sambhjiz\n",
            "With Order: sambhjiz\n",
            "With Order: sambhjiz\n",
            "With Order: sambhjizr\n",
            "With Order: sambhjizre\n"
          ]
        }
      ]
    },
    {
      "cell_type": "markdown",
      "source": [
        "#Remove all duplicates from a given string in Python"
      ],
      "metadata": {
        "id": "4kX-wO8L-AyR"
      }
    },
    {
      "cell_type": "code",
      "source": [
        "def removeduplicate(s):\n",
        "  string=set(s)\n",
        "  string=\"\".join(string)\n",
        "  dup=\"\"\n",
        "  for i in x:\n",
        "    if(i in dup):\n",
        "      pass\n",
        "    else:\n",
        "      dup=dup+i\n",
        "  print(\"After remove:\",dup)\n",
        "\n",
        "x=\"asddhsydefuafhdhfasjdh\"\n",
        "print(removeduplicate(x))"
      ],
      "metadata": {
        "colab": {
          "base_uri": "https://localhost:8080/"
        },
        "id": "yPJErzAr98Iw",
        "outputId": "4d784679-c60a-4af1-b977-3a02a14999e7"
      },
      "execution_count": 78,
      "outputs": [
        {
          "output_type": "stream",
          "name": "stdout",
          "text": [
            "After remove: asdhyefuj\n",
            "None\n"
          ]
        }
      ]
    },
    {
      "cell_type": "code",
      "source": [
        "def removeDuplicate(str):\n",
        "   s=set(str)\n",
        "   s=\"\".join(s)\n",
        "   print(\"without order:\",s)\n",
        "   t=\"\"\n",
        "   for i in str:\n",
        "       if(i in t):\n",
        "           pass\n",
        "       else:\n",
        "           t=t+i\n",
        "       print(\"with order:\",s) \n",
        "str=\"sambhajizambre\"\n",
        "removeDuplicate(str)"
      ],
      "metadata": {
        "colab": {
          "base_uri": "https://localhost:8080/"
        },
        "id": "1dTqhvH5QnVv",
        "outputId": "67e20d75-f3b3-458e-c9e2-e3f740fc2bef"
      },
      "execution_count": 61,
      "outputs": [
        {
          "output_type": "stream",
          "name": "stdout",
          "text": [
            "without order: hambsrzjei\n",
            "with order: hambsrzjei\n",
            "with order: hambsrzjei\n",
            "with order: hambsrzjei\n",
            "with order: hambsrzjei\n",
            "with order: hambsrzjei\n",
            "with order: hambsrzjei\n",
            "with order: hambsrzjei\n",
            "with order: hambsrzjei\n",
            "with order: hambsrzjei\n",
            "with order: hambsrzjei\n",
            "with order: hambsrzjei\n",
            "with order: hambsrzjei\n",
            "with order: hambsrzjei\n",
            "with order: hambsrzjei\n"
          ]
        }
      ]
    },
    {
      "cell_type": "code",
      "source": [
        "# Python program for implementation of Bubble Sort\n",
        " # optimize code, so if the array is already sorted, it doesn't need to go through the entire process"
      ],
      "metadata": {
        "id": "huOAW9jQQnN7"
      },
      "execution_count": 75,
      "outputs": []
    },
    {
      "cell_type": "code",
      "source": [
        "def bubbleSort(arr):\n",
        "  n=len(arr)\n",
        "  swapped=False\n",
        "  for i in range(n-1):\n",
        "    for j in range(0,n-1-1):\n",
        "      if arr[j] > arr[j+1]:\n",
        "        swapped = True\n",
        "        arr[j],arr[j+1]=arr[j+1],arr[j]\n",
        "  if not swapped:\n",
        "    return\n",
        "arr=[64,34,25,12,22,11,90]\n",
        " \n",
        "bubbleSort(arr)\n",
        " \n",
        "print(\"Sorted array is:\")\n",
        "for i in range(len(arr)):\n",
        "    print(\"% d\" % arr[i], end=\" \") \n",
        "  "
      ],
      "metadata": {
        "colab": {
          "base_uri": "https://localhost:8080/"
        },
        "id": "aRdptYZEQm6v",
        "outputId": "37bc36f5-c6d1-4c31-b7a3-0d2d74852559"
      },
      "execution_count": 63,
      "outputs": [
        {
          "output_type": "stream",
          "name": "stdout",
          "text": [
            "Sorted array is:\n",
            " 11  12  22  25  34  64  90 "
          ]
        }
      ]
    },
    {
      "cell_type": "markdown",
      "source": [
        "**# Python program for implementation of Bubble Sort**"
      ],
      "metadata": {
        "id": "okFSpwd79kTv"
      }
    },
    {
      "cell_type": "code",
      "source": [
        "def bubbleSort(arr):\n",
        "  n=len(arr)\n",
        "  for i in range(n-1):\n",
        "    for j in range(0,n-i-1):\n",
        "      if arr[j] > arr[j+1]:\n",
        "        arr[j],arr[j+1]=arr[j+1],arr[j]\n",
        "arr=[64,34,25,12,22,11,90]\n",
        " \n",
        "bubbleSort(arr)\n",
        " \n",
        "print(\"Sorted array is:\",arr)"
      ],
      "metadata": {
        "colab": {
          "base_uri": "https://localhost:8080/"
        },
        "id": "C4cDcWS0zJre",
        "outputId": "679d8cda-ae97-400a-d57c-49a71f0ab7f0"
      },
      "execution_count": 77,
      "outputs": [
        {
          "output_type": "stream",
          "name": "stdout",
          "text": [
            "Sorted array is: [11, 12, 22, 25, 34, 64, 90]\n"
          ]
        }
      ]
    },
    {
      "cell_type": "code",
      "source": [
        ""
      ],
      "metadata": {
        "id": "xANu7MjvzJnb"
      },
      "execution_count": null,
      "outputs": []
    },
    {
      "cell_type": "code",
      "source": [
        ""
      ],
      "metadata": {
        "id": "EgryCXC0zJld"
      },
      "execution_count": null,
      "outputs": []
    }
  ]
}
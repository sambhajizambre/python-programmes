{
  "nbformat": 4,
  "nbformat_minor": 0,
  "metadata": {
    "colab": {
      "name": "Untitled28.ipynb",
      "provenance": [],
      "authorship_tag": "ABX9TyPaqS7U5PTp62PGPouKJdUO",
      "include_colab_link": true
    },
    "kernelspec": {
      "name": "python3",
      "display_name": "Python 3"
    },
    "language_info": {
      "name": "python"
    }
  },
  "cells": [
    {
      "cell_type": "markdown",
      "metadata": {
        "id": "view-in-github",
        "colab_type": "text"
      },
      "source": [
        "<a href=\"https://colab.research.google.com/github/sambhajizambre/python-programmes/blob/main/practice.ipynb\" target=\"_parent\"><img src=\"https://colab.research.google.com/assets/colab-badge.svg\" alt=\"Open In Colab\"/></a>"
      ]
    },
    {
      "cell_type": "markdown",
      "source": [
        "# Q.1) Python program to check if a string is palindrome or not"
      ],
      "metadata": {
        "id": "EBRljuy_RUlV"
      }
    },
    {
      "cell_type": "code",
      "execution_count": 4,
      "metadata": {
        "colab": {
          "base_uri": "https://localhost:8080/"
        },
        "id": "fWBiWEvjPj77",
        "outputId": "08714430-706a-4c65-d984-1e8261ddeed2"
      },
      "outputs": [
        {
          "output_type": "stream",
          "name": "stdout",
          "text": [
            "yes\n"
          ]
        }
      ],
      "source": [
        "def ispalindrome(s):\n",
        "  return s==s [::-1]\n",
        "s=\"radar\"\n",
        "ans=ispalindrome(s)\n",
        "if ans:\n",
        "  print(\"yes\")\n",
        "else:\n",
        "  print(\"no\")"
      ]
    },
    {
      "cell_type": "markdown",
      "source": [
        "# Q.2) Remove all duplicates from a given string in Python"
      ],
      "metadata": {
        "id": "lUPdkJ3oRjCB"
      }
    },
    {
      "cell_type": "code",
      "source": [
        "def remove_duplicate(s):\n",
        "  dup=\"\"\n",
        "  for i in s:\n",
        "    if (i in dup):\n",
        "      pass\n",
        "    else:\n",
        "      dup=dup+i\n",
        "  print(\"after removing duplicate:\", dup)\n",
        "s=\"dfghjkliuytdfcvbjkluiyfg\"\n",
        "print(remove_duplicate(s))"
      ],
      "metadata": {
        "colab": {
          "base_uri": "https://localhost:8080/"
        },
        "id": "KvSYxBH-RuG0",
        "outputId": "4bfe4ef8-ffdc-44fe-d95c-e800a7edc709"
      },
      "execution_count": 12,
      "outputs": [
        {
          "output_type": "stream",
          "name": "stdout",
          "text": [
            "after removing duplicate: dfghjkliuytcvb\n",
            "None\n"
          ]
        }
      ]
    },
    {
      "cell_type": "markdown",
      "source": [
        "# Q.3) Python Program for Bubble Sort?"
      ],
      "metadata": {
        "id": "8Y_fPDfyVPjU"
      }
    },
    {
      "cell_type": "code",
      "source": [
        "def bubblesort(array):\n",
        "  for i in range (len(array)):\n",
        "    for j in range (0,len(array)-i-1):\n",
        "      if array[j]>array[j+1]:\n",
        "        temp=array[j]\n",
        "        array[j]=array[j+1]\n",
        "        array[j+1]=temp\n",
        "data=[-5,5,2,78,45,12,65]\n",
        "bubblesort(data)\n",
        "print(data)"
      ],
      "metadata": {
        "colab": {
          "base_uri": "https://localhost:8080/"
        },
        "id": "MeKkU5kXVWWC",
        "outputId": "c37e045a-02b7-4545-9d14-314fdba1f00d"
      },
      "execution_count": 13,
      "outputs": [
        {
          "output_type": "stream",
          "name": "stdout",
          "text": [
            "[-5, 2, 5, 12, 45, 65, 78]\n"
          ]
        }
      ]
    },
    {
      "cell_type": "markdown",
      "source": [
        "# Q.4) Python | Print an Inverted Star Pattern"
      ],
      "metadata": {
        "id": "qm8Ev0XTWf9t"
      }
    },
    {
      "cell_type": "code",
      "source": [
        "n=11\n",
        "s=0\n",
        "for i in range (n,0,-1):\n",
        "  print((n-i)*\"\"+i*\"*\")"
      ],
      "metadata": {
        "colab": {
          "base_uri": "https://localhost:8080/"
        },
        "id": "XM16bCTDVW4Z",
        "outputId": "33383980-4c0a-4b4d-c925-4475fa8c3b88"
      },
      "execution_count": 14,
      "outputs": [
        {
          "output_type": "stream",
          "name": "stdout",
          "text": [
            "***********\n",
            "**********\n",
            "*********\n",
            "********\n",
            "*******\n",
            "******\n",
            "*****\n",
            "****\n",
            "***\n",
            "**\n",
            "*\n"
          ]
        }
      ]
    },
    {
      "cell_type": "markdown",
      "source": [
        "# Q.7) Python Program for n-th Fibonacci number"
      ],
      "metadata": {
        "id": "5ORxS7KhXJil"
      }
    },
    {
      "cell_type": "code",
      "source": [
        "def fib(n):\n",
        "  a=0\n",
        "  b=1\n",
        "  if n==1:\n",
        "    print(a)\n",
        "  else:\n",
        "    print(a)\n",
        "    print(b)\n",
        "  for i in range (2,n):\n",
        "    c=a+b\n",
        "    a=b\n",
        "    b=c\n",
        "    print(c)\n",
        "fib(5)"
      ],
      "metadata": {
        "colab": {
          "base_uri": "https://localhost:8080/"
        },
        "id": "jpRFNo1KXZjx",
        "outputId": "691068ef-2be8-4179-ee48-2fd0acd70df1"
      },
      "execution_count": 15,
      "outputs": [
        {
          "output_type": "stream",
          "name": "stdout",
          "text": [
            "0\n",
            "1\n",
            "1\n",
            "2\n",
            "3\n"
          ]
        }
      ]
    },
    {
      "cell_type": "markdown",
      "source": [
        "# Q.10) Python program to find second largest number in a list"
      ],
      "metadata": {
        "id": "4tp4nAuGX9ED"
      }
    },
    {
      "cell_type": "code",
      "source": [
        "list=[2,69,9,8,8,9,56,6,8,28]\n",
        "list.sort()\n",
        "print(\"second largest number:\",list[-2])"
      ],
      "metadata": {
        "colab": {
          "base_uri": "https://localhost:8080/"
        },
        "id": "b-EcR4NeZuYe",
        "outputId": "c8b6233d-a52f-44d5-9e0e-7784dea76abe"
      },
      "execution_count": 16,
      "outputs": [
        {
          "output_type": "stream",
          "name": "stdout",
          "text": [
            "second largest number: 56\n"
          ]
        }
      ]
    },
    {
      "cell_type": "markdown",
      "source": [
        "# Q.6) Python program to print all Prime numbers in an Interval"
      ],
      "metadata": {
        "id": "MeHMEJ0LaUQ4"
      }
    },
    {
      "cell_type": "code",
      "source": [
        "lower=int(input(\"enter lower value:\"))\n",
        "upper=int(input(\"enter upper value:\"))\n",
        "for number in range (lower,upper+1):\n",
        "  if number>1:\n",
        "    for i in range (2,number):\n",
        "      if (number%i)==0:\n",
        "        break\n",
        "    else:\n",
        "        print(number)\n"
      ],
      "metadata": {
        "colab": {
          "base_uri": "https://localhost:8080/"
        },
        "id": "t8DqLakjaTp1",
        "outputId": "8e3326d4-505d-4cb8-b47c-c5b585c8b89b"
      },
      "execution_count": 22,
      "outputs": [
        {
          "output_type": "stream",
          "name": "stdout",
          "text": [
            "enter lower value:10\n",
            "enter upper value:50\n",
            "11\n",
            "13\n",
            "17\n",
            "19\n",
            "23\n",
            "29\n",
            "31\n",
            "37\n",
            "41\n",
            "43\n",
            "47\n"
          ]
        }
      ]
    },
    {
      "cell_type": "markdown",
      "source": [
        "# Q.8) Python Program for cube sum of first n natural numbers"
      ],
      "metadata": {
        "id": "LKiYaKdkdRo6"
      }
    },
    {
      "cell_type": "code",
      "source": [
        "n=6\n",
        "s=0\n",
        "for i in range (1,n+1):\n",
        "  s=s+pow(i,3)\n",
        "print(s)"
      ],
      "metadata": {
        "colab": {
          "base_uri": "https://localhost:8080/"
        },
        "id": "tRcBek-NdIG1",
        "outputId": "8d945e4e-e000-4bb7-de89-751c8af2a0b2"
      },
      "execution_count": 23,
      "outputs": [
        {
          "output_type": "stream",
          "name": "stdout",
          "text": [
            "441\n"
          ]
        }
      ]
    },
    {
      "cell_type": "markdown",
      "source": [
        "# Q.9) Python Program to check if given array is Monotonic"
      ],
      "metadata": {
        "id": "4wzy5iTPeC8_"
      }
    },
    {
      "cell_type": "code",
      "source": [
        "def ismonotonic(A):\n",
        "  return (all (A[i]<=A[i+1] for i in range (len(A)-1)) or all (A[i]>=A[i+1] for i in range (len(A)-1)))\n",
        "A=[2,5,88,55,45,6,4,5]\n",
        "print(ismonotonic(A))"
      ],
      "metadata": {
        "colab": {
          "base_uri": "https://localhost:8080/"
        },
        "id": "NvumtJ3yeGF9",
        "outputId": "6c411ac1-4583-4dd5-d99c-a62b80c30e79"
      },
      "execution_count": 27,
      "outputs": [
        {
          "output_type": "stream",
          "name": "stdout",
          "text": [
            "False\n"
          ]
        }
      ]
    }
  ]
}
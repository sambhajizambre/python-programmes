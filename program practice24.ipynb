{
  "nbformat": 4,
  "nbformat_minor": 0,
  "metadata": {
    "colab": {
      "name": "Untitled24.ipynb",
      "provenance": [],
      "authorship_tag": "ABX9TyPo1RIYI3uymsz89zWl/Hxi",
      "include_colab_link": true
    },
    "kernelspec": {
      "name": "python3",
      "display_name": "Python 3"
    },
    "language_info": {
      "name": "python"
    }
  },
  "cells": [
    {
      "cell_type": "markdown",
      "metadata": {
        "id": "view-in-github",
        "colab_type": "text"
      },
      "source": [
        "<a href=\"https://colab.research.google.com/github/sambhajizambre/python-programmes/blob/main/program%20practice24.ipynb\" target=\"_parent\"><img src=\"https://colab.research.google.com/assets/colab-badge.svg\" alt=\"Open In Colab\"/></a>"
      ]
    },
    {
      "cell_type": "code",
      "execution_count": 8,
      "metadata": {
        "colab": {
          "base_uri": "https://localhost:8080/"
        },
        "id": "W5_SdIVoSjPZ",
        "outputId": "a791a996-982b-4949-c855-d3aa6aa066e8"
      },
      "outputs": [
        {
          "output_type": "stream",
          "name": "stdout",
          "text": [
            "after remove duplicate: hgjebnkcldfv\n",
            "None\n"
          ]
        }
      ],
      "source": [
        "#Q.2) Remove all duplicates from a given string in Python\n",
        "def remove_duplicate(s):\n",
        "  dup=\"\"\n",
        "  for i in s:\n",
        "    if (i in dup):\n",
        "          pass\n",
        "    else:\n",
        "         dup=dup+i\n",
        "  print(\"after remove duplicate:\",dup)\n",
        "s=\"hggjgjegbnkclggggdfbvcg\"\n",
        "print(remove_duplicate(s))"
      ]
    },
    {
      "cell_type": "code",
      "source": [
        "def ispalindrome(s):\n",
        "  return s==s [::-1]\n",
        "s=\"radar\"\n",
        "ans=ispalindrome(s)\n",
        "if ans:\n",
        "  print(\"yes\")\n",
        "else:\n",
        "  print(\"no\")\n"
      ],
      "metadata": {
        "colab": {
          "base_uri": "https://localhost:8080/"
        },
        "id": "cRmGpqoVTyh7",
        "outputId": "e1c39085-c576-42e1-d7d2-60a972caf146"
      },
      "execution_count": 14,
      "outputs": [
        {
          "output_type": "stream",
          "name": "stdout",
          "text": [
            "yes\n"
          ]
        }
      ]
    },
    {
      "cell_type": "code",
      "source": [
        "def bubblesort(array):\n",
        "  for i in range (len(array)):\n",
        "    for j in range (0,len(array)-i-1):\n",
        "      if array[j]>array[j+1]:\n",
        "       temp=array[j]\n",
        "       array[j]=array[j+1]\n",
        "       array[j+1]=temp\n",
        "data=[2,5,2,46,4,98,8]\n",
        "bubblesort(data)\n",
        "print(data)"
      ],
      "metadata": {
        "colab": {
          "base_uri": "https://localhost:8080/"
        },
        "id": "Qf4HAFxaVOhL",
        "outputId": "823aaf33-0a5d-4de6-e5d5-0ef95a928a10"
      },
      "execution_count": 21,
      "outputs": [
        {
          "output_type": "stream",
          "name": "stdout",
          "text": [
            "[2, 2, 4, 5, 8, 46, 98]\n"
          ]
        }
      ]
    },
    {
      "cell_type": "code",
      "source": [
        "n=11\n",
        "for i in range (n,0,-1):\n",
        "  print((n-i) * \" \" +i *\"* \")"
      ],
      "metadata": {
        "colab": {
          "base_uri": "https://localhost:8080/"
        },
        "id": "6cEJtFj5fs0-",
        "outputId": "821a3a67-bf7f-4505-bd40-61f749b40262"
      },
      "execution_count": 26,
      "outputs": [
        {
          "output_type": "stream",
          "name": "stdout",
          "text": [
            "* * * * * * * * * * * \n",
            " * * * * * * * * * * \n",
            "  * * * * * * * * * \n",
            "   * * * * * * * * \n",
            "    * * * * * * * \n",
            "     * * * * * * \n",
            "      * * * * * \n",
            "       * * * * \n",
            "        * * * \n",
            "         * * \n",
            "          * \n"
          ]
        }
      ]
    },
    {
      "cell_type": "code",
      "source": [
        "def fib(n):\n",
        "  a=0\n",
        "  b=1\n",
        "  if n==1:\n",
        "    print(a)\n",
        "  else:\n",
        "    print(a)\n",
        "    print(b)\n",
        "  for i in range (2,n):\n",
        "    c=a+b\n",
        "    a=b\n",
        "    b=c\n",
        "    print(c)\n",
        "fib(10)"
      ],
      "metadata": {
        "colab": {
          "base_uri": "https://localhost:8080/"
        },
        "id": "nbryJXAMiGyi",
        "outputId": "10ea0c59-42ff-4a93-e4e5-cb1ede7277b5"
      },
      "execution_count": 33,
      "outputs": [
        {
          "output_type": "stream",
          "name": "stdout",
          "text": [
            "0\n",
            "1\n",
            "1\n",
            "2\n",
            "3\n",
            "5\n",
            "8\n",
            "13\n",
            "21\n",
            "34\n"
          ]
        }
      ]
    },
    {
      "cell_type": "code",
      "source": [
        "list=[2,5,4,5,8,9,6,8]\n",
        "list.sort()\n",
        "print(\"secong largest number is:\",list[-2])\n"
      ],
      "metadata": {
        "colab": {
          "base_uri": "https://localhost:8080/"
        },
        "id": "8HNKieVTklh7",
        "outputId": "4cb25436-c673-4f78-8296-7dab786afa0e"
      },
      "execution_count": 35,
      "outputs": [
        {
          "output_type": "stream",
          "name": "stdout",
          "text": [
            "secong largest number is: 8\n"
          ]
        }
      ]
    },
    {
      "cell_type": "code",
      "source": [
        "lower = int(input(\"Enter the lower value:\"))\n",
        "upper = int(input(\"Enter the upper value:\"))\n",
        "for number in range(lower,upper+1):\n",
        "    if number>1:\n",
        "        for i in range(2,number):\n",
        "            if (number%i)==0:\n",
        "                break\n",
        "        else:\n",
        "            print(number)"
      ],
      "metadata": {
        "colab": {
          "base_uri": "https://localhost:8080/"
        },
        "id": "Nl7whQl2pdnP",
        "outputId": "0ebbda3e-8d3a-4d4c-de09-8dd1ea3efd81"
      },
      "execution_count": 39,
      "outputs": [
        {
          "output_type": "stream",
          "name": "stdout",
          "text": [
            "Enter the lower value:1\n",
            "Enter the upper value:10\n",
            "2\n",
            "3\n",
            "5\n",
            "7\n"
          ]
        }
      ]
    },
    {
      "cell_type": "code",
      "source": [
        "lower=int(input(\"enter the lower value\"))\n",
        "upper=int(input(\"enter the upper value\"))\n",
        "for number in range (lower,upper+1):\n",
        "  if number>1:\n",
        "    for i in range (2,number):\n",
        "      if (number%i)==0:\n",
        "        break\n",
        "    else:\n",
        "      print(number)"
      ],
      "metadata": {
        "colab": {
          "base_uri": "https://localhost:8080/"
        },
        "id": "rE-qGwbLuCZH",
        "outputId": "80385556-dac1-47d0-b80b-2549b01c8eb8"
      },
      "execution_count": 40,
      "outputs": [
        {
          "output_type": "stream",
          "name": "stdout",
          "text": [
            "enter the lower value10\n",
            "enter the upper value20\n",
            "11\n",
            "13\n",
            "17\n",
            "19\n"
          ]
        }
      ]
    },
    {
      "cell_type": "code",
      "source": [
        "#Q.1) Python program to check if a string is palindrome or not\n",
        "def ispalindrome(s):\n",
        "  return s==s [::-1]\n",
        "s=\"radar\"\n",
        "ans=ispalindrome(s)\n",
        "if ans:\n",
        "      print(\"yes\")\n",
        "else:\n",
        "      print(\"no\")\n"
      ],
      "metadata": {
        "colab": {
          "base_uri": "https://localhost:8080/"
        },
        "id": "ELY0jefRuzve",
        "outputId": "8909ddff-fcae-4fad-a9e0-9688ae8fdbc7"
      },
      "execution_count": 7,
      "outputs": [
        {
          "output_type": "stream",
          "name": "stdout",
          "text": [
            "yes\n"
          ]
        }
      ]
    },
    {
      "cell_type": "code",
      "source": [
        "#Q.2) Remove all duplicates from a given string in Python\n",
        "def remove_duplicate(s):\n",
        "  dup=\"\"\n",
        "  for i in s:\n",
        "    if (i in dup):\n",
        "          pass\n",
        "    else:\n",
        "          dup=dup+i\n",
        "  print(\"after removing duplicates:\",dup)\n",
        "s=\"sahsdffgdhsjds\"\n",
        "print(s)\n",
        "print(remove_duplicate(s))"
      ],
      "metadata": {
        "colab": {
          "base_uri": "https://localhost:8080/"
        },
        "id": "RJgDSx4chWNt",
        "outputId": "3c0c9424-db0c-4971-e1a9-e2dfebb2ad3b"
      },
      "execution_count": 12,
      "outputs": [
        {
          "output_type": "stream",
          "name": "stdout",
          "text": [
            "sahsdffgdhsjds\n",
            "after removing duplicates: sahdfgj\n",
            "None\n"
          ]
        }
      ]
    },
    {
      "cell_type": "code",
      "source": [
        "#Q.3) Python Program for Bubble Sort?\n",
        "def bubblesort(array):\n",
        "  for i in range (len(array)):\n",
        "    for j in range (0,len(array)-i-1):\n",
        "      if array[j] > array[j+1]:\n",
        "        temp=array[j]\n",
        "        array[j]=array[j+1]\n",
        "        array[j+1]=temp\n",
        "data=[2,5,6,1]\n",
        "bubblesort(data)\n",
        "print(data)"
      ],
      "metadata": {
        "colab": {
          "base_uri": "https://localhost:8080/"
        },
        "id": "JDHdhJamigRY",
        "outputId": "bd23e375-c980-47ec-b0ca-07cfd673348a"
      },
      "execution_count": 16,
      "outputs": [
        {
          "output_type": "stream",
          "name": "stdout",
          "text": [
            "[1, 2, 5, 6]\n"
          ]
        }
      ]
    },
    {
      "cell_type": "code",
      "source": [
        "#Q.4) Python | Print an Inverted Star Pattern\n",
        "n=11\n",
        "for i in range (n, 0,-1):\n",
        "    print((n-i) * \" \" +i * '* ')                                                                                                                                )"
      ],
      "metadata": {
        "colab": {
          "base_uri": "https://localhost:8080/",
          "height": 130
        },
        "id": "7ag2kHLtlp5_",
        "outputId": "5600e249-7da4-4a25-8153-d56eeb804ab2"
      },
      "execution_count": 28,
      "outputs": [
        {
          "output_type": "error",
          "ename": "SyntaxError",
          "evalue": "ignored",
          "traceback": [
            "\u001b[0;36m  File \u001b[0;32m\"<ipython-input-28-b512cc203c59>\"\u001b[0;36m, line \u001b[0;32m4\u001b[0m\n\u001b[0;31m    print((n-i) * \" \" +i * '* ')                                                                                                                                )\u001b[0m\n\u001b[0m                                                                                                                                                                ^\u001b[0m\n\u001b[0;31mSyntaxError\u001b[0m\u001b[0;31m:\u001b[0m invalid syntax\n"
          ]
        }
      ]
    },
    {
      "cell_type": "code",
      "source": [
        "#n is the number of rows in which\n",
        "# star is going to be printed.\n",
        "n=11\n",
        "for i in range (n, 0,-1):\n",
        "    print((n-i) * \" \" +i * '* ')"
      ],
      "metadata": {
        "colab": {
          "base_uri": "https://localhost:8080/"
        },
        "id": "d97mwFDdou-z",
        "outputId": "8aaac6bd-c8e2-45aa-a073-67291077efcd"
      },
      "execution_count": 29,
      "outputs": [
        {
          "output_type": "stream",
          "name": "stdout",
          "text": [
            "* * * * * * * * * * * \n",
            " * * * * * * * * * * \n",
            "  * * * * * * * * * \n",
            "   * * * * * * * * \n",
            "    * * * * * * * \n",
            "     * * * * * * \n",
            "      * * * * * \n",
            "       * * * * \n",
            "        * * * \n",
            "         * * \n",
            "          * \n"
          ]
        }
      ]
    },
    {
      "cell_type": "code",
      "source": [
        "#Q.7) Python Program for n-th Fibonacci number\n",
        "def fib(n):\n",
        "  a=0\n",
        "  b=1\n",
        "  if n==1:\n",
        "    print(a)\n",
        "  else:\n",
        "    print(a)\n",
        "    print(b)\n",
        "  for i in range (2,n):\n",
        "    c=a+b\n",
        "    a=b\n",
        "    b=c\n",
        "    print(c)\n",
        "fib(5)"
      ],
      "metadata": {
        "colab": {
          "base_uri": "https://localhost:8080/"
        },
        "id": "rMXbhVBup7Ku",
        "outputId": "668861d7-bee0-4f37-9def-c5b46b615d78"
      },
      "execution_count": 30,
      "outputs": [
        {
          "output_type": "stream",
          "name": "stdout",
          "text": [
            "0\n",
            "1\n",
            "1\n",
            "2\n",
            "3\n"
          ]
        }
      ]
    },
    {
      "cell_type": "code",
      "source": [
        "#Q.10) Python program to find second largest number in a list\n",
        "list=[2,5,6,8]\n",
        "list.sort()\n",
        "print(\"second largest number:\",list[-2])"
      ],
      "metadata": {
        "colab": {
          "base_uri": "https://localhost:8080/"
        },
        "id": "F7G_oDP4p7Gs",
        "outputId": "52bf44b0-3c0a-44d6-a87c-b65386abb538"
      },
      "execution_count": 33,
      "outputs": [
        {
          "output_type": "stream",
          "name": "stdout",
          "text": [
            "second largest number: 6\n"
          ]
        }
      ]
    },
    {
      "cell_type": "code",
      "source": [
        "#Q.6) Python program to print all Prime numbers in an Interval\n",
        "lower=int(input(\"enter lower value\"))\n",
        "upper=int(input(\"enter upper value\"))\n",
        "for number in range (lower,upper+1):\n",
        "  if number>1:\n",
        "    for i in range (2,number):\n",
        "\n",
        "      if (number%i)==0:\n",
        "        break\n",
        "    else:\n",
        "      print(number)\n"
      ],
      "metadata": {
        "colab": {
          "base_uri": "https://localhost:8080/"
        },
        "id": "sylc-6q3p7Ev",
        "outputId": "1752dff2-dfb9-4985-c0c3-44430f87891b"
      },
      "execution_count": 41,
      "outputs": [
        {
          "output_type": "stream",
          "name": "stdout",
          "text": [
            "enter lower value1\n",
            "enter upper value10\n",
            "2\n",
            "3\n",
            "5\n",
            "7\n"
          ]
        }
      ]
    },
    {
      "cell_type": "code",
      "source": [
        "#Q.8) Python Program for cube sum of first n natural numbers\n",
        "n=7\n",
        "s=0\n",
        "for i in range (1,n+1):\n",
        "  s=s+pow(i,3)\n",
        "print(s)"
      ],
      "metadata": {
        "id": "61_23rJ20rpy",
        "outputId": "50ea2fa8-4efc-4c9e-9fa2-7e6e3e5692f4",
        "colab": {
          "base_uri": "https://localhost:8080/"
        }
      },
      "execution_count": 42,
      "outputs": [
        {
          "output_type": "stream",
          "name": "stdout",
          "text": [
            "784\n"
          ]
        }
      ]
    },
    {
      "cell_type": "code",
      "source": [
        "#Q.9) Python Program to check if given array is Monotonic\n",
        "def ismonotonic(A):\n",
        "    return (all(A[i]<=A[i+1] for i in range (len(A)-1)) or all (A[i] >= A[i+1] for i in range (len(A)-1)))\n",
        "A= 8,8,5,6\n",
        "print(ismonotonic(A))"
      ],
      "metadata": {
        "id": "FCkgyUPA4-Sz",
        "outputId": "48132994-10ac-454f-af07-378fe4b769bf",
        "colab": {
          "base_uri": "https://localhost:8080/"
        }
      },
      "execution_count": 56,
      "outputs": [
        {
          "output_type": "stream",
          "name": "stdout",
          "text": [
            "False\n"
          ]
        }
      ]
    },
    {
      "cell_type": "code",
      "source": [
        "def ismonotonic(A):\n",
        "  return (all(A[i]<=A[i+1] for i in range (len(A)-1))or all(A[i]>=A[i+1]for i in range (len(A)-1)))\n",
        "A=5,6,7,9,8\n",
        "print(ismonotonic(A))"
      ],
      "metadata": {
        "id": "O94idUpy6noX",
        "outputId": "c445dde4-b4a7-407c-85be-96e7ef504c07",
        "colab": {
          "base_uri": "https://localhost:8080/"
        }
      },
      "execution_count": 52,
      "outputs": [
        {
          "output_type": "stream",
          "name": "stdout",
          "text": [
            "False\n"
          ]
        }
      ]
    },
    {
      "cell_type": "code",
      "source": [
        "def ismonotonic(A):\n",
        "  return (all(A[i]<=A[i+1] for i in range (len(A)-1)) or all(A[i]>=A[i+1] for i in range (len(A)-1)))\n",
        "A=8,9,7,5,4,6,7\n",
        "print(ismonotonic(A))"
      ],
      "metadata": {
        "id": "3y4FhtIh79bZ",
        "outputId": "9f317d2b-0dde-4d56-ca9c-b607539c9b72",
        "colab": {
          "base_uri": "https://localhost:8080/"
        }
      },
      "execution_count": 55,
      "outputs": [
        {
          "output_type": "stream",
          "name": "stdout",
          "text": [
            "False\n"
          ]
        }
      ]
    },
    {
      "cell_type": "code",
      "source": [
        ""
      ],
      "metadata": {
        "id": "t2QRts0x9L1h"
      },
      "execution_count": null,
      "outputs": []
    },
    {
      "cell_type": "code",
      "source": [
        ""
      ],
      "metadata": {
        "id": "TtubkWkj9LzU"
      },
      "execution_count": null,
      "outputs": []
    }
  ]
}
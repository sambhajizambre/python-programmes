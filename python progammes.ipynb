{
  "nbformat": 4,
  "nbformat_minor": 0,
  "metadata": {
    "colab": {
      "name": "Untitled35.ipynb",
      "provenance": [],
      "authorship_tag": "ABX9TyNezk6fIeOQfHK/56r4krEy",
      "include_colab_link": true
    },
    "kernelspec": {
      "name": "python3",
      "display_name": "Python 3"
    },
    "language_info": {
      "name": "python"
    }
  },
  "cells": [
    {
      "cell_type": "markdown",
      "metadata": {
        "id": "view-in-github",
        "colab_type": "text"
      },
      "source": [
        "<a href=\"https://colab.research.google.com/github/sambhajizambre/python-programmes/blob/main/python%20progammes.ipynb\" target=\"_parent\"><img src=\"https://colab.research.google.com/assets/colab-badge.svg\" alt=\"Open In Colab\"/></a>"
      ]
    },
    {
      "cell_type": "markdown",
      "source": [
        "# Write a program to check if the word 'orange' is present in the \"This is orange\n",
        "juice\"."
      ],
      "metadata": {
        "id": "_3eKdK3VjL2R"
      }
    },
    {
      "cell_type": "code",
      "execution_count": 1,
      "metadata": {
        "colab": {
          "base_uri": "https://localhost:8080/"
        },
        "id": "TnrnR6CpidMm",
        "outputId": "ca0b6edd-4064-4797-a5de-2175cb9afb2b"
      },
      "outputs": [
        {
          "output_type": "stream",
          "name": "stdout",
          "text": [
            "True\n"
          ]
        }
      ],
      "source": [
        "a = \"This is orange juice\"\n",
        "print ('orange' in a.split())"
      ]
    },
    {
      "cell_type": "markdown",
      "source": [
        "# Write a program to find the length of the string \"machine learning\" using len function."
      ],
      "metadata": {
        "id": "zhDdDhvEjQJw"
      }
    },
    {
      "cell_type": "code",
      "source": [
        "\n",
        "# Python code to demonstrate string length\n",
        "# using len\n",
        " \n",
        "str = \"geeks\"\n",
        "print(len(str))"
      ],
      "metadata": {
        "colab": {
          "base_uri": "https://localhost:8080/"
        },
        "id": "a_0e5aZmiy7U",
        "outputId": "fac4f4f3-5f8b-4659-b059-ea28a3eba048"
      },
      "execution_count": 2,
      "outputs": [
        {
          "output_type": "stream",
          "name": "stdout",
          "text": [
            "5\n"
          ]
        }
      ]
    },
    {
      "cell_type": "markdown",
      "source": [
        "# Write a program to find the length of the string \"machine learning\" using while loop."
      ],
      "metadata": {
        "id": "ap2zZ2E6jc3i"
      }
    },
    {
      "cell_type": "code",
      "source": [
        "\n",
        "# Python code to demonstrate string length\n",
        "# using while loop.\n",
        " \n",
        "# Returns length of string\n",
        "def findLen(str):\n",
        "    counter = 0\n",
        "    while str[counter:]:\n",
        "        counter += 1\n",
        "    return counter\n",
        " \n",
        "str = \"geeks\"\n",
        "print(findLen(str))"
      ],
      "metadata": {
        "colab": {
          "base_uri": "https://localhost:8080/"
        },
        "id": "qvvI6idGiy5a",
        "outputId": "499d2cad-b96f-4d57-9740-745a052ee75b"
      },
      "execution_count": 3,
      "outputs": [
        {
          "output_type": "stream",
          "name": "stdout",
          "text": [
            "5\n"
          ]
        }
      ]
    },
    {
      "cell_type": "markdown",
      "source": [
        "# Write a program to find the length of the string \"machine learning\" using for loop"
      ],
      "metadata": {
        "id": "kv_lzazUjj_G"
      }
    },
    {
      "cell_type": "code",
      "source": [
        "\n",
        "# Python code to demonstrate string length\n",
        "# using for loop\n",
        " \n",
        "# Returns length of string\n",
        "def findLen(str):\n",
        "    counter = 0   \n",
        "    for i in str:\n",
        "        counter += 1\n",
        "    return counter\n",
        " \n",
        " \n",
        "str = \"geeks\"\n",
        "print(findLen(str))"
      ],
      "metadata": {
        "colab": {
          "base_uri": "https://localhost:8080/"
        },
        "id": "CfMDX_qMjDJg",
        "outputId": "8d8f4241-b9ac-4f38-abe7-1fb023e935a9"
      },
      "execution_count": 4,
      "outputs": [
        {
          "output_type": "stream",
          "name": "stdout",
          "text": [
            "5\n"
          ]
        }
      ]
    }
  ]
}
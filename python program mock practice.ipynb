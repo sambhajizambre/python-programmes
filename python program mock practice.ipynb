{
  "nbformat": 4,
  "nbformat_minor": 0,
  "metadata": {
    "colab": {
      "name": "Untitled35.ipynb",
      "provenance": [],
      "authorship_tag": "ABX9TyMDbFIa4CDYGwrQ7lyY2RTm",
      "include_colab_link": true
    },
    "kernelspec": {
      "name": "python3",
      "display_name": "Python 3"
    },
    "language_info": {
      "name": "python"
    }
  },
  "cells": [
    {
      "cell_type": "markdown",
      "metadata": {
        "id": "view-in-github",
        "colab_type": "text"
      },
      "source": [
        "<a href=\"https://colab.research.google.com/github/sambhajizambre/python-programmes/blob/main/python%20program%20mock%20practice.ipynb\" target=\"_parent\"><img src=\"https://colab.research.google.com/assets/colab-badge.svg\" alt=\"Open In Colab\"/></a>"
      ]
    },
    {
      "cell_type": "markdown",
      "source": [
        "# Write a program to check if the word 'orange' is present in the \"This is orange\n",
        "juice\"."
      ],
      "metadata": {
        "id": "_3eKdK3VjL2R"
      }
    },
    {
      "cell_type": "code",
      "execution_count": null,
      "metadata": {
        "colab": {
          "base_uri": "https://localhost:8080/"
        },
        "id": "TnrnR6CpidMm",
        "outputId": "ca0b6edd-4064-4797-a5de-2175cb9afb2b"
      },
      "outputs": [
        {
          "output_type": "stream",
          "name": "stdout",
          "text": [
            "True\n"
          ]
        }
      ],
      "source": [
        "a = \"This is orange juice\"\n",
        "print ('orange' in a.split())"
      ]
    },
    {
      "cell_type": "code",
      "source": [
        "a=\"this is orange juice\"\n",
        "print('orange' in a.split())"
      ],
      "metadata": {
        "id": "YZq5BErqbRBP",
        "outputId": "f1514c2f-4643-4a50-9723-5ae8a3d7dcb3",
        "colab": {
          "base_uri": "https://localhost:8080/"
        }
      },
      "execution_count": 1,
      "outputs": [
        {
          "output_type": "stream",
          "name": "stdout",
          "text": [
            "True\n"
          ]
        }
      ]
    },
    {
      "cell_type": "code",
      "source": [
        "a=\"sambhaji s is\"\n",
        "print('s'in a.split())"
      ],
      "metadata": {
        "id": "p6FLfH2UbQ8i",
        "outputId": "20ab7fed-4c06-454b-8455-6e8dcff6a88c",
        "colab": {
          "base_uri": "https://localhost:8080/"
        }
      },
      "execution_count": 3,
      "outputs": [
        {
          "output_type": "stream",
          "name": "stdout",
          "text": [
            "True\n"
          ]
        }
      ]
    },
    {
      "cell_type": "code",
      "source": [],
      "metadata": {
        "id": "NDZ3u88ObQ66"
      },
      "execution_count": null,
      "outputs": []
    },
    {
      "cell_type": "markdown",
      "source": [
        "# Write a program to find the length of the string \"machine learning\" using len function."
      ],
      "metadata": {
        "id": "zhDdDhvEjQJw"
      }
    },
    {
      "cell_type": "code",
      "source": [
        "\n",
        "# Python code to demonstrate string length\n",
        "# using len\n",
        " \n",
        "str = \"geeks\"\n",
        "print(len(str))"
      ],
      "metadata": {
        "colab": {
          "base_uri": "https://localhost:8080/"
        },
        "id": "a_0e5aZmiy7U",
        "outputId": "fac4f4f3-5f8b-4659-b059-ea28a3eba048"
      },
      "execution_count": null,
      "outputs": [
        {
          "output_type": "stream",
          "name": "stdout",
          "text": [
            "5\n"
          ]
        }
      ]
    },
    {
      "cell_type": "markdown",
      "source": [
        "# Write a program to find the length of the string \"machine learning\" using while loop."
      ],
      "metadata": {
        "id": "ap2zZ2E6jc3i"
      }
    },
    {
      "cell_type": "code",
      "source": [
        "\n",
        "# Python code to demonstrate string length\n",
        "# using while loop.\n",
        " \n",
        "# Returns length of string\n",
        "def findLen(str):\n",
        "    counter = 0\n",
        "    while str[counter:]:\n",
        "        counter += 1\n",
        "    return counter\n",
        " \n",
        "str = \"geeks\"\n",
        "print(findLen(str))"
      ],
      "metadata": {
        "colab": {
          "base_uri": "https://localhost:8080/"
        },
        "id": "qvvI6idGiy5a",
        "outputId": "499d2cad-b96f-4d57-9740-745a052ee75b"
      },
      "execution_count": null,
      "outputs": [
        {
          "output_type": "stream",
          "name": "stdout",
          "text": [
            "5\n"
          ]
        }
      ]
    },
    {
      "cell_type": "code",
      "source": [
        "def findlen(s):\n",
        "  counter=0\n",
        "  while s[counter:]:\n",
        "    counter+=1\n",
        "  return counter\n",
        "s=\"geeks\"\n",
        "print(findlen(s))"
      ],
      "metadata": {
        "id": "HQmZNHkZctuc",
        "outputId": "9da3a9cc-01b4-4532-8782-3761f7d5c766",
        "colab": {
          "base_uri": "https://localhost:8080/"
        }
      },
      "execution_count": 8,
      "outputs": [
        {
          "output_type": "stream",
          "name": "stdout",
          "text": [
            "5\n"
          ]
        }
      ]
    },
    {
      "cell_type": "code",
      "source": [
        "s=\"geeks\"\n",
        "print(len(s))"
      ],
      "metadata": {
        "id": "o0MJSz8qdYFh",
        "outputId": "dfc5ec83-b0da-4fa5-a04f-46ddeb10bc7a",
        "colab": {
          "base_uri": "https://localhost:8080/"
        }
      },
      "execution_count": 6,
      "outputs": [
        {
          "output_type": "stream",
          "name": "stdout",
          "text": [
            "5\n"
          ]
        }
      ]
    },
    {
      "cell_type": "code",
      "source": [
        "a=\"orange is juice\"\n",
        "print('orange'in a.split())"
      ],
      "metadata": {
        "id": "PHEORkE-duSP",
        "outputId": "2ca86220-a325-49c9-ead3-255459f32cd7",
        "colab": {
          "base_uri": "https://localhost:8080/"
        }
      },
      "execution_count": 11,
      "outputs": [
        {
          "output_type": "stream",
          "name": "stdout",
          "text": [
            "True\n"
          ]
        }
      ]
    },
    {
      "cell_type": "code",
      "source": [
        "def findlen(s):\n",
        "  counter=0\n",
        "  while s [counter:]:\n",
        "    counter+=1\n",
        "  return counter\n",
        "s=\"geeks\"\n",
        "print(findlen(s))"
      ],
      "metadata": {
        "id": "co0iplsaea_T",
        "outputId": "30fdf6fd-a1ea-410a-92a8-d09d34bcc242",
        "colab": {
          "base_uri": "https://localhost:8080/"
        }
      },
      "execution_count": 12,
      "outputs": [
        {
          "output_type": "stream",
          "name": "stdout",
          "text": [
            "5\n"
          ]
        }
      ]
    },
    {
      "cell_type": "code",
      "source": [
        "s=\"geeks\"\n",
        "print(len(s))"
      ],
      "metadata": {
        "id": "d3zpXRnwe9v9",
        "outputId": "1ac5ef01-b704-4364-e31c-dc7776e69f40",
        "colab": {
          "base_uri": "https://localhost:8080/"
        }
      },
      "execution_count": 13,
      "outputs": [
        {
          "output_type": "stream",
          "name": "stdout",
          "text": [
            "5\n"
          ]
        }
      ]
    },
    {
      "cell_type": "code",
      "source": [
        "a=\"this is orange juice\"\n",
        "print('orange'in a.split(\n",
        "    \n",
        "))"
      ],
      "metadata": {
        "id": "DRfC5d2-fKlm",
        "outputId": "57984f69-ed38-4070-c36a-d011e465a5db",
        "colab": {
          "base_uri": "https://localhost:8080/"
        }
      },
      "execution_count": 14,
      "outputs": [
        {
          "output_type": "stream",
          "name": "stdout",
          "text": [
            "True\n"
          ]
        }
      ]
    },
    {
      "cell_type": "markdown",
      "source": [
        "# Write a program to find the length of the string \"machine learning\" using for loop"
      ],
      "metadata": {
        "id": "kv_lzazUjj_G"
      }
    },
    {
      "cell_type": "code",
      "source": [
        "\n",
        "# Python code to demonstrate string length\n",
        "# using for loop\n",
        " \n",
        "# Returns length of string\n",
        "def findLen(str):\n",
        "    counter = 0   \n",
        "    for i in str:\n",
        "        counter += 1\n",
        "    return counter\n",
        " \n",
        " \n",
        "str = \"geeks\"\n",
        "print(findLen(str))"
      ],
      "metadata": {
        "colab": {
          "base_uri": "https://localhost:8080/"
        },
        "id": "CfMDX_qMjDJg",
        "outputId": "8d8f4241-b9ac-4f38-abe7-1fb023e935a9"
      },
      "execution_count": null,
      "outputs": [
        {
          "output_type": "stream",
          "name": "stdout",
          "text": [
            "5\n"
          ]
        }
      ]
    },
    {
      "cell_type": "code",
      "source": [
        "a=\"this is orange juice\"\n",
        "print('orange'in a.split())"
      ],
      "metadata": {
        "id": "tsFbOvsIgPYh",
        "outputId": "d1d9f78a-0f1b-4f2e-e4ce-26e599106ff6",
        "colab": {
          "base_uri": "https://localhost:8080/"
        }
      },
      "execution_count": 15,
      "outputs": [
        {
          "output_type": "stream",
          "name": "stdout",
          "text": [
            "True\n"
          ]
        }
      ]
    },
    {
      "cell_type": "code",
      "source": [
        "a=\"this is apple juice\"\n",
        "print('orange'in a.split())"
      ],
      "metadata": {
        "id": "NxbVZdyMgL6v",
        "outputId": "fbfd447c-d9b4-4ae7-b7a4-f5588096c737",
        "colab": {
          "base_uri": "https://localhost:8080/"
        }
      },
      "execution_count": 16,
      "outputs": [
        {
          "output_type": "stream",
          "name": "stdout",
          "text": [
            "False\n"
          ]
        }
      ]
    },
    {
      "cell_type": "code",
      "source": [
        "s=\"sambhaji\"\n",
        "print(len(s))"
      ],
      "metadata": {
        "id": "0BelfUk3gldE",
        "outputId": "a1b000f7-0da4-4893-9799-0c9a00916472",
        "colab": {
          "base_uri": "https://localhost:8080/"
        }
      },
      "execution_count": 17,
      "outputs": [
        {
          "output_type": "stream",
          "name": "stdout",
          "text": [
            "8\n"
          ]
        }
      ]
    },
    {
      "cell_type": "code",
      "source": [
        "def findlen(s):\n",
        "  counter=0\n",
        "  while s [counter:]:\n",
        "    counter+=1\n",
        "  return counter\n",
        "s=\"geeks\"\n",
        "print(findlen(s))"
      ],
      "metadata": {
        "id": "Y-_br2tSguZl",
        "outputId": "0c411065-3703-4b41-e12b-1fde9ac9a69f",
        "colab": {
          "base_uri": "https://localhost:8080/"
        }
      },
      "execution_count": 18,
      "outputs": [
        {
          "output_type": "stream",
          "name": "stdout",
          "text": [
            "5\n"
          ]
        }
      ]
    },
    {
      "cell_type": "code",
      "source": [
        "def findlen(s):\n",
        "  counter=0\n",
        "  for i in s:\n",
        "    counter+=1\n",
        "  return counter\n",
        "s=\"sambhaji\"\n",
        "print(findlen(s))"
      ],
      "metadata": {
        "id": "h3N9WetWhIkG",
        "outputId": "ddbef9d5-45ec-4496-bfb6-0185b9986b9d",
        "colab": {
          "base_uri": "https://localhost:8080/"
        }
      },
      "execution_count": 19,
      "outputs": [
        {
          "output_type": "stream",
          "name": "stdout",
          "text": [
            "8\n"
          ]
        }
      ]
    },
    {
      "cell_type": "code",
      "source": [
        "def findlen(s):\n",
        "  n=0\n",
        "  while s[n:]:\n",
        "    n+=1\n",
        "  return n\n",
        "s=\"sambhaji\"\n",
        "print(findlen(s))"
      ],
      "metadata": {
        "id": "VkMAc8K8haS4",
        "outputId": "b92892d5-5c1f-464a-cf9f-8f61d64ae82d",
        "colab": {
          "base_uri": "https://localhost:8080/"
        }
      },
      "execution_count": 24,
      "outputs": [
        {
          "output_type": "stream",
          "name": "stdout",
          "text": [
            "8\n"
          ]
        }
      ]
    },
    {
      "cell_type": "code",
      "source": [],
      "metadata": {
        "id": "G5RrWRFvz78x"
      },
      "execution_count": null,
      "outputs": []
    }
  ]
}
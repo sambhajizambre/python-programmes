{
  "nbformat": 4,
  "nbformat_minor": 0,
  "metadata": {
    "colab": {
      "name": "Untitled23.ipynb",
      "provenance": [],
      "authorship_tag": "ABX9TyNzspP47xYdTKWkoAn6OyJL",
      "include_colab_link": true
    },
    "kernelspec": {
      "name": "python3",
      "display_name": "Python 3"
    },
    "language_info": {
      "name": "python"
    }
  },
  "cells": [
    {
      "cell_type": "markdown",
      "metadata": {
        "id": "view-in-github",
        "colab_type": "text"
      },
      "source": [
        "<a href=\"https://colab.research.google.com/github/sambhajizambre/python-programmes/blob/main/python%20program%20practice.ipynb\" target=\"_parent\"><img src=\"https://colab.research.google.com/assets/colab-badge.svg\" alt=\"Open In Colab\"/></a>"
      ]
    },
    {
      "cell_type": "markdown",
      "source": [
        "# Q.1) Python program to check if a string is palindrome or not\n",
        "Given a string, write a python function to check if it is palindrome or not. A string is said to be palindrome if the reverse of the string is the same as string. For example, “radar” is a palindrome, but “radix” is not a palindrome."
      ],
      "metadata": {
        "id": "m7QXYP4TfHUh"
      }
    },
    {
      "cell_type": "code",
      "execution_count": null,
      "metadata": {
        "colab": {
          "base_uri": "https://localhost:8080/"
        },
        "id": "Yws_qtONZw3S",
        "outputId": "c0f4140a-12ee-4b58-c476-75890ddc5fce"
      },
      "outputs": [
        {
          "output_type": "stream",
          "name": "stdout",
          "text": [
            "yes\n"
          ]
        }
      ],
      "source": [
        "def ispalindrome(s):\n",
        "  return s==s[::-1]\n",
        "s=\"radar\"\n",
        "ans=ispalindrome(s)\n",
        "\n",
        "if ans:\n",
        "  print(\"yes\")\n",
        "else:\n",
        "  print(\"no\")"
      ]
    },
    {
      "cell_type": "code",
      "source": [
        "def ispalindrome(s):\n",
        "  return s==s[::-1]\n",
        "\n",
        "s=\"malayalam\"\n",
        "ans=ispalindrome(s)\n",
        "\n",
        "if ans:\n",
        "  print(\"yes\")\n",
        "else:\n",
        " print(\"No\")"
      ],
      "metadata": {
        "colab": {
          "base_uri": "https://localhost:8080/"
        },
        "id": "yrJ5CkE7c1SP",
        "outputId": "a60bf6bb-3b00-4e3d-998d-a5380b0c602b"
      },
      "execution_count": null,
      "outputs": [
        {
          "output_type": "stream",
          "name": "stdout",
          "text": [
            "yes\n"
          ]
        }
      ]
    },
    {
      "cell_type": "code",
      "source": [
        "def ispalindrome(s):\n",
        "  return s==s[::-1]\n",
        "\n",
        "s=\"malayalam\"\n",
        "ans=ispalindrome(s)\n",
        "\n",
        "if ans:\n",
        "  print(\"yes\")\n",
        "else:\n",
        "  print(\"no\")  "
      ],
      "metadata": {
        "colab": {
          "base_uri": "https://localhost:8080/"
        },
        "id": "agnXYvxreP70",
        "outputId": "0ac51b8f-2208-48b3-a0a8-b847f52e8368"
      },
      "execution_count": null,
      "outputs": [
        {
          "output_type": "stream",
          "name": "stdout",
          "text": [
            "yes\n"
          ]
        }
      ]
    },
    {
      "cell_type": "code",
      "source": [
        "def ispalindrome(s):\n",
        "  return s==s[::-1]\n",
        "s=\"sambhaji\"\n",
        "ans=ispalindrome(s)\n",
        "if ans:\n",
        "  print(\"yes\")\n",
        "else:\n",
        "  print(\"no\")  "
      ],
      "metadata": {
        "colab": {
          "base_uri": "https://localhost:8080/"
        },
        "id": "2znziR1RenY_",
        "outputId": "032ba05a-2868-454d-98be-d3fc334f9561"
      },
      "execution_count": null,
      "outputs": [
        {
          "output_type": "stream",
          "name": "stdout",
          "text": [
            "no\n"
          ]
        }
      ]
    },
    {
      "cell_type": "markdown",
      "source": [
        "# Q.2) Remove all duplicates from a given string in Python"
      ],
      "metadata": {
        "id": "2Tbb7E7TgOEZ"
      }
    },
    {
      "cell_type": "code",
      "source": [
        "def remove_duplicate(s):\n",
        "        dup=\"\"\n",
        "        for i in s:\n",
        "            if(i in dup):\n",
        "                 pass\n",
        "            else:\n",
        "                dup=dup+i\n",
        "        print(\"after removing duplicate:\",dup)\n",
        "s=\"sjsgdtyuijhhgfty\"\n",
        "print(s)\n",
        "print(remove_duplicate(s))"
      ],
      "metadata": {
        "colab": {
          "base_uri": "https://localhost:8080/"
        },
        "id": "-nJpEDebnfX2",
        "outputId": "b89d9345-b764-4009-edad-fe87a9e74292"
      },
      "execution_count": null,
      "outputs": [
        {
          "output_type": "stream",
          "name": "stdout",
          "text": [
            "sjsgdtyuijhhgfty\n",
            "after removing duplicate: sjgdtyuihf\n",
            "None\n"
          ]
        }
      ]
    },
    {
      "cell_type": "markdown",
      "source": [
        "**OR**"
      ],
      "metadata": {
        "id": "Pp7Mm5J0rvvd"
      }
    },
    {
      "cell_type": "code",
      "source": [
        "def remove_duplicate(s):\n",
        "    string=set(s)\n",
        "    string=\"\".join(string)\n",
        "    dup=\"\"\n",
        "    for i in s:\n",
        "        if(i in dup):\n",
        "            pass\n",
        "        else:\n",
        "            dup=dup+i\n",
        "    print(\"After removing Duplicates: \",dup)\n",
        "\n",
        "s=\"sjhtrsfgdfdgvxgvcvddfkcvd\"\n",
        "print(remove_duplicate(s))"
      ],
      "metadata": {
        "colab": {
          "base_uri": "https://localhost:8080/"
        },
        "id": "TgjZNR8QeoAA",
        "outputId": "bf010aaf-7d97-4873-cedd-bb404342ad10"
      },
      "execution_count": null,
      "outputs": [
        {
          "output_type": "stream",
          "name": "stdout",
          "text": [
            "After removing Duplicates:  sjhtrfgdvxck\n",
            "None\n"
          ]
        }
      ]
    },
    {
      "cell_type": "code",
      "source": [
        "def remove_duplicate(s):\n",
        "  string=s\n",
        "  string=\"\"\n",
        "  dup=\"\"\n",
        "  for i in s:\n",
        "    if(i in dup):\n",
        "         pass\n",
        "    else:\n",
        "       dup=dup+i\n",
        "  print(\"after removing duplicates:\",dup)\n",
        "s=\"sjhgvvffrtftrdfgycvbxgfvhjdvfgvg\"\n",
        "print(s)\n",
        "print(remove_duplicate(s))"
      ],
      "metadata": {
        "colab": {
          "base_uri": "https://localhost:8080/"
        },
        "id": "OAI4MpYPjub3",
        "outputId": "ebcf0512-18d8-49bb-8e52-8cb081f03aad"
      },
      "execution_count": null,
      "outputs": [
        {
          "output_type": "stream",
          "name": "stdout",
          "text": [
            "sjhgvvffrtftrdfgycvbxgfvhjdvfgvg\n",
            "after removing duplicates: sjhgvfrtdycbx\n",
            "None\n"
          ]
        }
      ]
    },
    {
      "cell_type": "code",
      "source": [
        "def remove_duplicate(s):\n",
        "    string=set(s)\n",
        "    string=\"\".join(string)\n",
        "    dup=\"\"\n",
        "    for i in s:\n",
        "        if(i in dup):\n",
        "            pass\n",
        "        else:\n",
        "            dup=dup+i\n",
        "    print(\"After removing Duplicates: \",dup)\n",
        "s=\"sjhgvvffrtftrdfgycvbxgfvhjdvfgvg\"\n",
        "print(s)\n",
        "print(remove_duplicate(s))"
      ],
      "metadata": {
        "colab": {
          "base_uri": "https://localhost:8080/"
        },
        "id": "WmDBORo6loAO",
        "outputId": "3038e93b-5d27-47ca-d29c-60d9bb05bd27"
      },
      "execution_count": null,
      "outputs": [
        {
          "output_type": "stream",
          "name": "stdout",
          "text": [
            "sjhgvvffrtftrdfgycvbxgfvhjdvfgvg\n",
            "After removing Duplicates:  sjhgvfrtdycbx\n",
            "None\n"
          ]
        }
      ]
    },
    {
      "cell_type": "code",
      "source": [
        "def remove_duplicate(s):\n",
        "    dup=\"\"\n",
        "    for i in s:\n",
        "        if(i in dup):\n",
        "            pass\n",
        "        else:\n",
        "            dup=dup+i\n",
        "    print(\"After removing Duplicates: \",dup)\n",
        "s=\"sjhgvvffrtftrdfgycvbxgfvhjdvfgvg\"\n",
        "print(s)\n",
        "print(remove_duplicate(s))"
      ],
      "metadata": {
        "colab": {
          "base_uri": "https://localhost:8080/"
        },
        "id": "MVQvxkmzmGzR",
        "outputId": "905c7764-5c04-467b-9c76-f528e2d9e482"
      },
      "execution_count": null,
      "outputs": [
        {
          "output_type": "stream",
          "name": "stdout",
          "text": [
            "sjhgvvffrtftrdfgycvbxgfvhjdvfgvg\n",
            "After removing Duplicates:  sjhgvfrtdycbx\n",
            "None\n"
          ]
        }
      ]
    },
    {
      "cell_type": "markdown",
      "source": [
        "# **Q.3) Python Program for Bubble Sort?**\n",
        "\n",
        "Bubble Sort is the simplest sorting algorithm that works by repeatedly swapping the adjacent elements if they are in the wrong order.\n",
        "\n",
        "Bubble sort is a sorting algorithm that compares two adjacent elements and swaps them until they are not in the intended order.\n",
        "\n",
        "Just like the movement of air bubbles in the water that rise up to the surface, each element of the array move to the end in each iteration. Therefore, it is called a bubble sort."
      ],
      "metadata": {
        "id": "AmoD43aBr9z-"
      }
    },
    {
      "cell_type": "code",
      "source": [
        "# Bubble sort in Python\n",
        "\n",
        "def bubbleSort(array):\n",
        "    \n",
        "  # loop to access each array element\n",
        "  for i in range(len(array)):\n",
        "\n",
        "    # loop to compare array elements\n",
        "    for j in range(0, len(array) - i - 1):\n",
        "\n",
        "      # compare two adjacent elements change > to < to sort in descending order\n",
        "      if array[j] > array[j + 1]:\n",
        "\n",
        "        # swapping elements if elements are not in the intended order\n",
        "        temp = array[j]\n",
        "        array[j] = array[j+1]\n",
        "        array[j+1] = temp\n",
        "\n",
        "\n",
        "data = [-2, 45, 0, 11, -9]\n",
        "\n",
        "bubbleSort(data)\n",
        "\n",
        "print('Sorted Array in Ascending Order:')\n",
        "print(data)"
      ],
      "metadata": {
        "colab": {
          "base_uri": "https://localhost:8080/"
        },
        "id": "QzV-eF7Mr9Hv",
        "outputId": "a81c2ee8-e593-49a7-c466-90b05e6d712b"
      },
      "execution_count": null,
      "outputs": [
        {
          "output_type": "stream",
          "name": "stdout",
          "text": [
            "Sorted Array in Ascending Order:\n",
            "[-9, -2, 0, 11, 45]\n"
          ]
        }
      ]
    },
    {
      "cell_type": "code",
      "source": [
        "# Bubble sort in Python\n",
        "\n",
        "def bubbleSort(array):\n",
        "  for i in range(len(array)):\n",
        "    for j in range(0, len(array) - i - 1):\n",
        "      if array[j] > array[j + 1]:\n",
        "        temp = array[j]\n",
        "        array[j] = array[j+1]\n",
        "        array[j+1] = temp\n",
        "\n",
        "\n",
        "data = [-2, 45, 0, 11, -9]\n",
        "\n",
        "bubbleSort(data)\n",
        "\n",
        "print('Sorted Array in Ascending Order:')\n",
        "print(data)"
      ],
      "metadata": {
        "colab": {
          "base_uri": "https://localhost:8080/"
        },
        "id": "Zmk6Jx8c1F37",
        "outputId": "6deb83ed-183a-4ac7-948a-71ef03e605bb"
      },
      "execution_count": null,
      "outputs": [
        {
          "output_type": "stream",
          "name": "stdout",
          "text": [
            "Sorted Array in Ascending Order:\n",
            "[-9, -2, 0, 11, 45]\n"
          ]
        }
      ]
    },
    {
      "cell_type": "code",
      "source": [
        "def bubblesort(array):\n",
        "  for i in range (len(array)):\n",
        "    for j in range(0,len(array)-i-1):\n",
        "      if array[j]>array[j+1]:\n",
        "        temp=array[j]\n",
        "        array[j]=array[j+1]\n",
        "        array[j+1]=temp\n",
        "data=[2,6,5,8,1,23,4]\n",
        "bubblesort(data)\n",
        "print(data)"
      ],
      "metadata": {
        "colab": {
          "base_uri": "https://localhost:8080/"
        },
        "id": "EP-srkFN1UMd",
        "outputId": "f8f84595-716d-4915-d859-a03ef9299b1e"
      },
      "execution_count": null,
      "outputs": [
        {
          "output_type": "stream",
          "name": "stdout",
          "text": [
            "[1, 2, 4, 5, 6, 8, 23]\n"
          ]
        }
      ]
    },
    {
      "cell_type": "markdown",
      "source": [
        "# Q.4) Python | Print an Inverted Star Pattern"
      ],
      "metadata": {
        "id": "MUM9Hek628L2"
      }
    },
    {
      "cell_type": "code",
      "source": [
        "#n is the number of rows in which\n",
        "# star is going to be printed.\n",
        "n=11\n",
        "for i in range (n, 0,-1):\n",
        "    print((n-i) * \" \" +i * '* ')"
      ],
      "metadata": {
        "colab": {
          "base_uri": "https://localhost:8080/"
        },
        "id": "Ug8hZHQT20BP",
        "outputId": "07e6e807-2727-4947-f0f5-145281e447c8"
      },
      "execution_count": null,
      "outputs": [
        {
          "output_type": "stream",
          "name": "stdout",
          "text": [
            "* * * * * * * * * * * \n",
            " * * * * * * * * * * \n",
            "  * * * * * * * * * \n",
            "   * * * * * * * * \n",
            "    * * * * * * * \n",
            "     * * * * * * \n",
            "      * * * * * \n",
            "       * * * * \n",
            "        * * * \n",
            "         * * \n",
            "          * \n"
          ]
        }
      ]
    },
    {
      "cell_type": "code",
      "source": [
        "n=10\n",
        "for i in range (n,0,-1):\n",
        "  print((n-i) * \" \" +i * \" * \")"
      ],
      "metadata": {
        "colab": {
          "base_uri": "https://localhost:8080/"
        },
        "id": "ZujheSF26jKX",
        "outputId": "d1de7f16-b30b-487e-bfce-2cefaea7eb8d"
      },
      "execution_count": null,
      "outputs": [
        {
          "output_type": "stream",
          "name": "stdout",
          "text": [
            " *  *  *  *  *  *  *  *  *  * \n",
            "  *  *  *  *  *  *  *  *  * \n",
            "   *  *  *  *  *  *  *  * \n",
            "    *  *  *  *  *  *  * \n",
            "     *  *  *  *  *  * \n",
            "      *  *  *  *  * \n",
            "       *  *  *  * \n",
            "        *  *  * \n",
            "         *  * \n",
            "          * \n"
          ]
        }
      ]
    },
    {
      "cell_type": "markdown",
      "source": [
        "# **Q.7) Python Program for n-th Fibonacci number**"
      ],
      "metadata": {
        "id": "v2Witz8H8CCJ"
      }
    },
    {
      "cell_type": "code",
      "source": [
        "def fib(n):\n",
        "  a=0\n",
        "  b=1\n",
        "\n",
        "  if n==1:\n",
        "    print(a)\n",
        "  else:\n",
        "    print(a)\n",
        "    print(b)\n",
        "\n",
        "    for i in range(2,n):\n",
        "      c=a+b\n",
        "      a=b\n",
        "      b=c\n",
        "      print(c)\n",
        "fib(5)"
      ],
      "metadata": {
        "colab": {
          "base_uri": "https://localhost:8080/"
        },
        "id": "pcrj4ggC7Uoq",
        "outputId": "7f6ba37e-5a37-477d-cceb-4944bcb36479"
      },
      "execution_count": null,
      "outputs": [
        {
          "output_type": "stream",
          "name": "stdout",
          "text": [
            "0\n",
            "1\n",
            "1\n",
            "2\n",
            "3\n"
          ]
        }
      ]
    },
    {
      "cell_type": "code",
      "source": [
        "def fib(n):\n",
        "  a=0\n",
        "  b=1\n",
        "\n",
        "  if n==1:\n",
        "    print(a)\n",
        "  else:\n",
        "    print(a)\n",
        "    print(b)\n",
        "\n",
        "    for i in range(2,n):\n",
        "      c=a+b\n",
        "      a=b\n",
        "      b=c\n",
        "      print(c)\n",
        "fib(10)"
      ],
      "metadata": {
        "colab": {
          "base_uri": "https://localhost:8080/"
        },
        "id": "JsKgHpxD-OUN",
        "outputId": "04b66b7c-45de-45da-8184-93d41299bbc3"
      },
      "execution_count": null,
      "outputs": [
        {
          "output_type": "stream",
          "name": "stdout",
          "text": [
            "0\n",
            "1\n",
            "1\n",
            "2\n",
            "3\n",
            "5\n",
            "8\n",
            "13\n",
            "21\n",
            "34\n"
          ]
        }
      ]
    },
    {
      "cell_type": "code",
      "source": [
        "def fib(n):\n",
        "  a=0\n",
        "  b=1\n",
        "  if n==1:\n",
        "    print(a)\n",
        "  else:\n",
        "    print(a)\n",
        "    print(b)\n",
        "  for i in range (2,n):\n",
        "    c=a+b\n",
        "    a=b\n",
        "    b=c\n",
        "    print(c)\n",
        "fib(6)\n"
      ],
      "metadata": {
        "colab": {
          "base_uri": "https://localhost:8080/"
        },
        "id": "eKMgduia_A6e",
        "outputId": "2e25e08c-fa3a-4e4d-c447-663b953ec654"
      },
      "execution_count": null,
      "outputs": [
        {
          "output_type": "stream",
          "name": "stdout",
          "text": [
            "0\n",
            "1\n",
            "1\n",
            "2\n",
            "3\n",
            "5\n"
          ]
        }
      ]
    },
    {
      "cell_type": "markdown",
      "source": [
        "**Q.10) Python program to find second largest number in a list**"
      ],
      "metadata": {
        "id": "ObTkNR5ADQVe"
      }
    },
    {
      "cell_type": "code",
      "source": [
        "# creating list of integer type\n",
        "list1 = [10, 20, 4, 45, 30,99]\n",
        "   \n",
        "list1.sort()\n",
        "     \n",
        "print(\"Second largest element is:\", list1[-2])"
      ],
      "metadata": {
        "colab": {
          "base_uri": "https://localhost:8080/"
        },
        "id": "4jbi_qbJASRP",
        "outputId": "8a3185f0-99b2-4920-f347-ebc1635569bd"
      },
      "execution_count": null,
      "outputs": [
        {
          "output_type": "stream",
          "name": "stdout",
          "text": [
            "Second largest element is: 45\n"
          ]
        }
      ]
    },
    {
      "cell_type": "markdown",
      "source": [
        "# **Q.6) Python program to print all Prime numbers in an Interval**"
      ],
      "metadata": {
        "id": "jp1e_nJtq3Vs"
      }
    },
    {
      "cell_type": "code",
      "source": [
        "lower = int(input(\"Enter the lower value:\"))\n",
        "upper = int(input(\"Enter the upper value:\"))\n",
        "for number in range(lower,upper+1):\n",
        "    if number>1:\n",
        "        for i in range(2,number):\n",
        "            if (number%i)==0:\n",
        "                break\n",
        "        else:\n",
        "            print(number)"
      ],
      "metadata": {
        "id": "X5nkd1jLASOb",
        "outputId": "5139b9e1-da96-4d51-e11e-ce175c57d0fd",
        "colab": {
          "base_uri": "https://localhost:8080/"
        }
      },
      "execution_count": 1,
      "outputs": [
        {
          "output_type": "stream",
          "name": "stdout",
          "text": [
            "Enter the lower value:1\n",
            "Enter the upper value:10\n",
            "2\n",
            "3\n",
            "5\n",
            "7\n"
          ]
        }
      ]
    },
    {
      "cell_type": "code",
      "source": [
        "lower_value=int(input(\"enter the lower value\"))\n",
        "upper_value=int(input(\"enter the upper value\"))\n",
        "for number in range(lower_value,upper_value+1):\n",
        "  if number>1:\n",
        "    for i in range(2,number):\n",
        "      if (number%i)==0:\n",
        "        break\n",
        "    else:\n",
        "      print(number)"
      ],
      "metadata": {
        "id": "5LhtP0KhASCh",
        "outputId": "37407b82-3290-46f7-bd99-77effff2b418",
        "colab": {
          "base_uri": "https://localhost:8080/"
        }
      },
      "execution_count": 5,
      "outputs": [
        {
          "output_type": "stream",
          "name": "stdout",
          "text": [
            "enter the lower value5\n",
            "enter the upper value15\n",
            "5\n",
            "7\n",
            "11\n",
            "13\n"
          ]
        }
      ]
    },
    {
      "cell_type": "markdown",
      "source": [
        "# **Q.8) Python Program for cube sum of first n natural numbers**"
      ],
      "metadata": {
        "id": "rgAJ7aGdBWdz"
      }
    },
    {
      "cell_type": "code",
      "source": [
        "n=6\n",
        "s=0\n",
        "for i in range(1,n+1):\n",
        "    # adding cube sum using pow() function\n",
        "    s=s+pow(i,3)\n",
        "print(s)"
      ],
      "metadata": {
        "id": "o6B6xk2yBNkF",
        "outputId": "74cefd62-c4cb-4928-ac28-7296ac5c71e2",
        "colab": {
          "base_uri": "https://localhost:8080/"
        }
      },
      "execution_count": 6,
      "outputs": [
        {
          "output_type": "stream",
          "name": "stdout",
          "text": [
            "441\n"
          ]
        }
      ]
    },
    {
      "cell_type": "code",
      "source": [
        "n=7\n",
        "s=0\n",
        "for i in range(1,n+1):\n",
        "    # adding cube sum using pow() function\n",
        "    s=s+pow(i,3)\n",
        "print(s)"
      ],
      "metadata": {
        "id": "Yxis7CNEBT3i",
        "outputId": "94364a15-cda5-48ed-b50f-ecb02fb24101",
        "colab": {
          "base_uri": "https://localhost:8080/"
        }
      },
      "execution_count": 7,
      "outputs": [
        {
          "output_type": "stream",
          "name": "stdout",
          "text": [
            "784\n"
          ]
        }
      ]
    },
    {
      "cell_type": "markdown",
      "source": [
        "# **Q.9) Python Program to check if given array is Monotonic**"
      ],
      "metadata": {
        "id": "x2W8zgp-BrJu"
      }
    },
    {
      "cell_type": "code",
      "source": [
        "# Check if given array is Monotonic\n",
        "def isMonotonic(A):\n",
        "  \n",
        "    return (all(A[i] <= A[i + 1] for i in range(len(A) - 1)) or \n",
        "            all(A[i] >= A[i + 1] for i in range(len(A) - 1)))\n",
        "  \n",
        "# Driver program\n",
        "A = [6, 5, 4, 4]\n",
        "  \n",
        "# Print required result\n",
        "print(isMonotonic(A))"
      ],
      "metadata": {
        "id": "oxDW2FzBBq3t",
        "outputId": "216cc11f-d7c9-4f34-8a73-a45c0f8297a5",
        "colab": {
          "base_uri": "https://localhost:8080/"
        }
      },
      "execution_count": 13,
      "outputs": [
        {
          "output_type": "stream",
          "name": "stdout",
          "text": [
            "True\n"
          ]
        }
      ]
    },
    {
      "cell_type": "code",
      "source": [
        "def ismonotonic(A):\n",
        "  return (all(A[i]<=A[i+1] for i in range (len(A)-1))or all(A[i]>=A[i+1]for i in range (len(A)-1)))\n",
        "A=5,6,7,9,8\n",
        "print(ismonotonic(A))"
      ],
      "metadata": {
        "id": "r69YNw9JDHSz",
        "outputId": "e215c3bd-6d74-407d-9c93-1a8661445eca",
        "colab": {
          "base_uri": "https://localhost:8080/"
        }
      },
      "execution_count": 16,
      "outputs": [
        {
          "output_type": "stream",
          "name": "stdout",
          "text": [
            "False\n"
          ]
        }
      ]
    }
  ]
}
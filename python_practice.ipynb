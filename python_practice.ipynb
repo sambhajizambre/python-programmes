{
  "nbformat": 4,
  "nbformat_minor": 0,
  "metadata": {
    "colab": {
      "provenance": [],
      "authorship_tag": "ABX9TyOE4Ib2sCvOoTBU2s1Ijj7m",
      "include_colab_link": true
    },
    "kernelspec": {
      "name": "python3",
      "display_name": "Python 3"
    },
    "language_info": {
      "name": "python"
    }
  },
  "cells": [
    {
      "cell_type": "markdown",
      "metadata": {
        "id": "view-in-github",
        "colab_type": "text"
      },
      "source": [
        "<a href=\"https://colab.research.google.com/github/sambhajizambre/python-programmes/blob/main/python_practice.ipynb\" target=\"_parent\"><img src=\"https://colab.research.google.com/assets/colab-badge.svg\" alt=\"Open In Colab\"/></a>"
      ]
    },
    {
      "cell_type": "markdown",
      "source": [
        "**good morning good evening using time and datetime function**\n",
        "\n",
        "***star pattern program***"
      ],
      "metadata": {
        "id": "ydwn1iJD5_b-"
      }
    },
    {
      "cell_type": "code",
      "execution_count": 1,
      "metadata": {
        "colab": {
          "base_uri": "https://localhost:8080/"
        },
        "id": "SGsszh-DjTbX",
        "outputId": "800de08a-87da-4f0a-f3da-5f0fc296ac21"
      },
      "outputs": [
        {
          "output_type": "stream",
          "name": "stdout",
          "text": [
            "05:42:38\n",
            "05\n",
            "42\n",
            "38\n"
          ]
        }
      ],
      "source": [
        "import time\n",
        "timestamp = time.strftime('%H:%M:%S')\n",
        "print(timestamp)\n",
        "timestamp = time.strftime('%H')\n",
        "print(timestamp)\n",
        "timestamp = time.strftime('%M')\n",
        "print(timestamp)\n",
        "timestamp = time.strftime('%S')\n",
        "print(timestamp)\n",
        "# https://docs.python.org/3/library/time.html#time.strftime"
      ]
    },
    {
      "cell_type": "code",
      "source": [
        "import time\n",
        "# timestamp = time.strftime('%H:%M:%S')\n",
        "# print(timestamp)\n",
        "timestamp = int(time.strftime('%H'))\n",
        "# print(time.strftime('%H'))\n",
        "if timestamp>=12:\n",
        "  print(\"good afternoon sir\")\n",
        "elif timestamp<=12 and timestamp>=1:\n",
        "  print(\"good morning sir\")\n",
        "else:\n",
        "  print(\"good evening sir\")\n",
        "\n",
        "# print(int(timestamp))\n",
        "# timestamp = time.strftime('%M')\n",
        "# print(timestamp)\n",
        "# timestamp = time.strftime('%S')\n",
        "# print(timestamp)"
      ],
      "metadata": {
        "colab": {
          "base_uri": "https://localhost:8080/"
        },
        "id": "LsZq2PNdjYbW",
        "outputId": "b89c956a-a7a6-4aaa-f303-e006f987b209"
      },
      "execution_count": 6,
      "outputs": [
        {
          "output_type": "stream",
          "name": "stdout",
          "text": [
            "good morning sir\n"
          ]
        }
      ]
    },
    {
      "cell_type": "code",
      "source": [
        "import datetime\n",
        "currentTime = datetime.datetime.now()\n",
        "# currentTime.hour\n",
        "\n",
        "if currentTime.hour < 12:\n",
        "     print('Good morning.')\n",
        "elif 12 <= currentTime.hour < 18:\n",
        "     print('Good afternoon.')\n",
        "else:\n",
        "     print('Good evening.')\n"
      ],
      "metadata": {
        "colab": {
          "base_uri": "https://localhost:8080/"
        },
        "id": "rI0U0KKCjkvN",
        "outputId": "3013d138-6751-4ba1-ef41-f7f472b9f927"
      },
      "execution_count": 13,
      "outputs": [
        {
          "output_type": "stream",
          "name": "stdout",
          "text": [
            "Good morning.\n"
          ]
        }
      ]
    },
    {
      "cell_type": "code",
      "source": [
        "name = 'Abhishek'\n",
        "for i in name:\n",
        "    print(i, end=\", \")"
      ],
      "metadata": {
        "colab": {
          "base_uri": "https://localhost:8080/"
        },
        "id": "IV3EsK_9oVdT",
        "outputId": "78ca86f7-c4ac-44c3-b442-283657cc1611"
      },
      "execution_count": 1,
      "outputs": [
        {
          "output_type": "stream",
          "name": "stdout",
          "text": [
            "A, b, h, i, s, h, e, k, "
          ]
        }
      ]
    },
    {
      "cell_type": "code",
      "source": [
        "name=\"abhishek\"\n",
        "for i in name:\n",
        "  print(i)"
      ],
      "metadata": {
        "colab": {
          "base_uri": "https://localhost:8080/"
        },
        "id": "hbkRIsaww4MX",
        "outputId": "de4ec0cd-d625-43bb-c304-77415cf17a35"
      },
      "execution_count": 2,
      "outputs": [
        {
          "output_type": "stream",
          "name": "stdout",
          "text": [
            "a\n",
            "b\n",
            "h\n",
            "i\n",
            "s\n",
            "h\n",
            "e\n",
            "k\n"
          ]
        }
      ]
    },
    {
      "cell_type": "code",
      "source": [
        "x=int(input())\n",
        "for i in range(x):\n",
        "  print(i)"
      ],
      "metadata": {
        "colab": {
          "base_uri": "https://localhost:8080/"
        },
        "id": "tJE9SYL9w4P2",
        "outputId": "eec5c3e6-e215-4a84-99b5-326f1d19823a"
      },
      "execution_count": 10,
      "outputs": [
        {
          "output_type": "stream",
          "name": "stdout",
          "text": [
            "10\n",
            "0\n",
            "1\n",
            "2\n",
            "3\n",
            "4\n",
            "5\n",
            "6\n",
            "7\n",
            "8\n",
            "9\n"
          ]
        }
      ]
    },
    {
      "cell_type": "code",
      "source": [
        "n=10\n",
        "for i in range(1,n+1):\n",
        "  for j in range(1,n+2-i):\n",
        "    print(\"*\",end=\" \")\n",
        "  print()"
      ],
      "metadata": {
        "colab": {
          "base_uri": "https://localhost:8080/"
        },
        "id": "Ppx7G2gMw4TY",
        "outputId": "70984161-7808-4aa3-b46f-c80a0f55802f"
      },
      "execution_count": 31,
      "outputs": [
        {
          "output_type": "stream",
          "name": "stdout",
          "text": [
            "* * * * * * * * * * \n",
            "* * * * * * * * * \n",
            "* * * * * * * * \n",
            "* * * * * * * \n",
            "* * * * * * \n",
            "* * * * * \n",
            "* * * * \n",
            "* * * \n",
            "* * \n",
            "* \n"
          ]
        }
      ]
    },
    {
      "cell_type": "code",
      "source": [
        "n=10\n",
        "for i in range(1,n+1):\n",
        "  for j in range(1,n+2-i):\n",
        "    print(n+1-i,end=\" \")\n",
        "  print()"
      ],
      "metadata": {
        "colab": {
          "base_uri": "https://localhost:8080/"
        },
        "id": "WLAWlwgZw4W7",
        "outputId": "cc66bd1c-271f-47f5-84c8-409357276dba"
      },
      "execution_count": 35,
      "outputs": [
        {
          "output_type": "stream",
          "name": "stdout",
          "text": [
            "10 10 10 10 10 10 10 10 10 10 \n",
            "9 9 9 9 9 9 9 9 9 \n",
            "8 8 8 8 8 8 8 8 \n",
            "7 7 7 7 7 7 7 \n",
            "6 6 6 6 6 6 \n",
            "5 5 5 5 5 \n",
            "4 4 4 4 \n",
            "3 3 3 \n",
            "2 2 \n",
            "1 \n"
          ]
        }
      ]
    },
    {
      "cell_type": "code",
      "source": [
        "n=10\n",
        "for i in range(1,n+1):\n",
        "  for j in range(1,n+2-i):\n",
        "    print(n-i,end=\" \")\n",
        "print()"
      ],
      "metadata": {
        "colab": {
          "base_uri": "https://localhost:8080/"
        },
        "id": "qRykDT_Tw4at",
        "outputId": "59740660-0351-4534-825d-02e755140644"
      },
      "execution_count": 41,
      "outputs": [
        {
          "output_type": "stream",
          "name": "stdout",
          "text": [
            "9 9 9 9 9 9 9 9 9 9 8 8 8 8 8 8 8 8 8 7 7 7 7 7 7 7 7 6 6 6 6 6 6 6 5 5 5 5 5 5 4 4 4 4 4 3 3 3 3 2 2 2 1 1 0 \n"
          ]
        }
      ]
    },
    {
      "cell_type": "code",
      "source": [
        "n=10\n",
        "for i in range(1,n+1):\n",
        "  for j in range(1,n+2-i):\n",
        "    print(n-i,end=\" \")\n",
        " print()"
      ],
      "metadata": {
        "colab": {
          "base_uri": "https://localhost:8080/",
          "height": 141
        },
        "id": "42690nd-w4eU",
        "outputId": "4f31484d-2096-4b2f-b719-de162dd7a4c7"
      },
      "execution_count": 43,
      "outputs": [
        {
          "output_type": "error",
          "ename": "IndentationError",
          "evalue": "ignored",
          "traceback": [
            "\u001b[0;36m  File \u001b[0;32m\"<tokenize>\"\u001b[0;36m, line \u001b[0;32m5\u001b[0m\n\u001b[0;31m    print()\u001b[0m\n\u001b[0m    ^\u001b[0m\n\u001b[0;31mIndentationError\u001b[0m\u001b[0;31m:\u001b[0m unindent does not match any outer indentation level\n"
          ]
        }
      ]
    },
    {
      "cell_type": "code",
      "source": [
        "n=10\n",
        "for i in range(1,n+1):\n",
        "  for j in range(1,n+2-i):\n",
        "    print(n-i,end=\" \")\n",
        "  print()"
      ],
      "metadata": {
        "colab": {
          "base_uri": "https://localhost:8080/"
        },
        "id": "kx7MvVelw4h3",
        "outputId": "f95daf84-8473-4864-a12d-3a471004e566"
      },
      "execution_count": 46,
      "outputs": [
        {
          "output_type": "stream",
          "name": "stdout",
          "text": [
            "9 9 9 9 9 9 9 9 9 9 \n",
            "8 8 8 8 8 8 8 8 8 \n",
            "7 7 7 7 7 7 7 7 \n",
            "6 6 6 6 6 6 6 \n",
            "5 5 5 5 5 5 \n",
            "4 4 4 4 4 \n",
            "3 3 3 3 \n",
            "2 2 2 \n",
            "1 1 \n",
            "0 \n"
          ]
        }
      ]
    },
    {
      "cell_type": "code",
      "source": [
        "n=10\n",
        "for i in range(1,n+1):\n",
        "  for j in range(1,n+2-i):\n",
        "    print(n-i,end=\" \")\n"
      ],
      "metadata": {
        "colab": {
          "base_uri": "https://localhost:8080/"
        },
        "id": "hRHBrLVC5t4Q",
        "outputId": "0d443fd2-1502-40b4-e5ba-595781c727f4"
      },
      "execution_count": 47,
      "outputs": [
        {
          "output_type": "stream",
          "name": "stdout",
          "text": [
            "9 9 9 9 9 9 9 9 9 9 8 8 8 8 8 8 8 8 8 7 7 7 7 7 7 7 7 6 6 6 6 6 6 6 5 5 5 5 5 5 4 4 4 4 4 3 3 3 3 2 2 2 1 1 0 "
          ]
        }
      ]
    }
  ]
}